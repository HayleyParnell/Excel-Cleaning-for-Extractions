{
 "cells": [
  {
   "cell_type": "code",
   "execution_count": 5,
   "id": "bac20acc-f09e-4034-b765-efea03cea82b",
   "metadata": {},
   "outputs": [],
   "source": [
    "import pandas as pd"
   ]
  },
  {
   "cell_type": "code",
   "execution_count": 6,
   "id": "2d25b6e7-4be6-47d3-9787-043ab953d0e5",
   "metadata": {},
   "outputs": [],
   "source": [
    "file_path = r'C:\\Users\\hparnell\\Desktop\\MH100011\\~130 11+ Docs converted to TXT.xlsx'"
   ]
  },
  {
   "cell_type": "code",
   "execution_count": 7,
   "id": "d8df2e94-1f33-4271-a80c-05448ca2fcb3",
   "metadata": {},
   "outputs": [],
   "source": [
    "df = pd.read_excel(file_path)"
   ]
  },
  {
   "cell_type": "code",
   "execution_count": null,
   "id": "a573ae03-b136-45a8-90e7-317334a310c8",
   "metadata": {},
   "outputs": [],
   "source": [
    "print(df.head())"
   ]
  },
  {
   "cell_type": "code",
   "execution_count": 16,
   "id": "d237f9d6-2c50-44ee-b02b-3822cc827cf5",
   "metadata": {},
   "outputs": [],
   "source": [
    "if 'Column1' in df.columns:\n",
    "    # Drop rows where 'Column1' has blank cells\n",
    "    df_cleaned = df.dropna(subset=['Column1'])\n",
    "    \n",
    "    # Optional: Reset the index after dropping rows\n",
    "    df_cleaned.reset_index(drop=True, inplace=True)"
   ]
  },
  {
   "cell_type": "code",
   "execution_count": null,
   "id": "14bce57a-4d6e-4608-8ab2-7fd6e46124a5",
   "metadata": {},
   "outputs": [],
   "source": [
    "df_cleaned"
   ]
  },
  {
   "cell_type": "code",
   "execution_count": 25,
   "id": "cefd563f-3aee-4233-872a-9fdd302704d3",
   "metadata": {},
   "outputs": [],
   "source": [
    "# Check if 'Column12' exists in the DataFrame\n",
    "if 'Column12' in df_cleaned.columns:\n",
    "    # Drop the column named 'Column12'\n",
    "    df_dropped = df_cleaned.drop(columns=['Column12'])\n",
    "else:\n",
    "    print(\"Column 'Column12' not found in the DataFrame.\")"
   ]
  },
  {
   "cell_type": "code",
   "execution_count": null,
   "id": "b2463d75-ea98-42ed-8c57-ff461b987b9d",
   "metadata": {},
   "outputs": [],
   "source": [
    "df_dropped"
   ]
  },
  {
   "cell_type": "code",
   "execution_count": 54,
   "id": "cc431ec9-9d08-42a8-b732-71252b9b0e2d",
   "metadata": {},
   "outputs": [],
   "source": [
    "import re"
   ]
  },
  {
   "cell_type": "code",
   "execution_count": 64,
   "id": "04dc625f-edd2-46f0-8362-a7a4c5158e5a",
   "metadata": {},
   "outputs": [],
   "source": [
    "   # Define a function to identify rows with funky characters\n",
    "def has_funkiness(text):\n",
    "        if pd.isna(text):  # Check for NaN values\n",
    "            return False\n",
    "        # Define a regex pattern for \"funky\" characters or unexpected whitespace\n",
    "        pattern = r'[^\\w\\s.,!?\\'-]'  # Matches non-word characters or excessive whitespace\n",
    "        # Convert text to string to ensure regex can process it\n",
    "        return bool(re.search(pattern, str(text)))"
   ]
  },
  {
   "cell_type": "code",
   "execution_count": null,
   "id": "dbc6a5e8-3c9e-4056-941b-b066e976a02c",
   "metadata": {},
   "outputs": [],
   "source": [
    "    # Check if 'Column1' exists in the DataFrame\n",
    "    if 'Column1' in df_dropped.columns:\n",
    "        # Apply the function to create a boolean Series\n",
    "        funky_mask = df_dropped['Column1'].apply(has_funkiness)\n",
    "        \n",
    "        # Filter out rows where 'Column1' has funky characters\n",
    "        df_funk_removed = df_dropped[~funky_mask]\n",
    "        \n",
    "        # Reset the index after dropping rows\n",
    "        df_funk_removed.reset_index(drop=True, inplace=True)\n",
    "        \n",
    "        # Save the cleaned DataFrame to a new Excel file\n",
    "        output_path = r'C:\\Users\\hparnell\\Desktop\\MH100011\\cleaned_data.xlsx'\n",
    "        df_funk_removed.to_excel(output_path, index=False)\n",
    "        \n",
    "        # Print the first few rows of the cleaned DataFrame\n",
    "        print(\"Cleaned data:\\n\", df_funk_removed.head())\n",
    "    else:\n",
    "        print(\"Column 'Column1' not found in the DataFrame.\")\n",
    "        "
   ]
  },
  {
   "cell_type": "code",
   "execution_count": null,
   "id": "9b1cfb16-b2fb-4247-98a3-01d1e8a11cfc",
   "metadata": {},
   "outputs": [],
   "source": [
    "df_funk_removed"
   ]
  },
  {
   "cell_type": "code",
   "execution_count": 67,
   "id": "b32fffdb-7163-42ed-9fef-72877139d6da",
   "metadata": {},
   "outputs": [],
   "source": [
    "# Function to check if a cell contains only a single letter\n",
    "def is_single_letter(text):\n",
    "    # Ensure text is a string\n",
    "    text = str(text).strip()\n",
    "    # Check if the length is 1 and if the character is an alphabet letter\n",
    "    return len(text) == 1 and text.isalpha()"
   ]
  },
  {
   "cell_type": "code",
   "execution_count": null,
   "id": "ba459500-099c-4fa1-85d8-90d942485a3f",
   "metadata": {},
   "outputs": [],
   "source": [
    "try:\n",
    "    # Print column names and a sample of the data for verification\n",
    "    print(\"Column names:\", df_funk_removed.columns.tolist())\n",
    "    print(\"Sample data:\\n\", df_funk_removed.head())\n",
    "\n",
    "    # Check if 'Column1' exists in the DataFrame\n",
    "    if 'Column1' in df_funk_removed.columns:\n",
    "        # Apply the function to create a boolean Series\n",
    "        single_letter_mask = df_funk_removed['Column1'].apply(is_single_letter)\n",
    "        \n",
    "        # Print the rows with single letters for verification\n",
    "        print(\"Rows with single letters:\\n\", df_funk_removed[single_letter_mask])\n",
    "        \n",
    "        # Filter out rows where 'Column1' contains only a single letter\n",
    "        df_filtered = df_funk_removed[~single_letter_mask]\n",
    "        \n",
    "        # Optional: Reset the index after dropping rows\n",
    "        df_filtered.reset_index(drop=True, inplace=True)\n",
    "        \n",
    "        # Save the filtered DataFrame to a new Excel file\n",
    "        output_path = r'C:\\Users\\hparnell\\Desktop\\MH100011\\filtered_data.xlsx'\n",
    "        df_filtered.to_excel(output_path, index=False)\n",
    "        \n",
    "        # Print the first few rows of the filtered DataFrame\n",
    "        print(\"Filtered data:\\n\", df_filtered.head())\n",
    "    else:\n",
    "        print(\"Column 'Column1' not found in the DataFrame.\")\n",
    "        \n",
    "except Exception as e:\n",
    "    print(f\"An error occurred: {e}\")"
   ]
  },
  {
   "cell_type": "code",
   "execution_count": null,
   "id": "16daeec7-d554-4f89-b5c9-96b0685739cf",
   "metadata": {},
   "outputs": [],
   "source": [
    "df_filtered"
   ]
  },
  {
   "cell_type": "code",
   "execution_count": 70,
   "id": "d6934f2d-0a59-4ff7-813b-188331a4904d",
   "metadata": {},
   "outputs": [],
   "source": [
    "# Function to check if a cell contains exactly two characters\n",
    "def is_two_characters(text):\n",
    "    # Ensure text is a string and strip surrounding whitespace\n",
    "    text = str(text).strip()\n",
    "    # Check if the length is 2 and if the characters are alphabetic or digits\n",
    "    return len(text) == 2 and text.isalnum()"
   ]
  },
  {
   "cell_type": "code",
   "execution_count": null,
   "id": "8eeeb663-0c0a-4451-9c42-04682f96ce9f",
   "metadata": {},
   "outputs": [],
   "source": [
    "try:\n",
    "    # Print column names and a sample of the data for verification\n",
    "    print(\"Column names:\", df_filtered.columns.tolist())\n",
    "    print(\"Sample data:\\n\", df_filtered.head())\n",
    "\n",
    "    # Check if 'Column1' exists in the DataFrame\n",
    "    if 'Column1' in df_filtered.columns:\n",
    "        # Apply the function to create a boolean Series\n",
    "        two_char_mask = df_filtered['Column1'].apply(is_two_characters)\n",
    "        \n",
    "        # Print the rows with two characters for verification\n",
    "        print(\"Rows with two characters:\\n\", df_filtered[two_char_mask])\n",
    "        \n",
    "        # Filter out rows where 'Column1' contains exactly two characters\n",
    "        df_filtered = df_filtered[~two_char_mask]\n",
    "        \n",
    "        # Reset the index after dropping rows\n",
    "        df_filtered.reset_index(drop=True, inplace=True)\n",
    "        \n",
    "        # Save the filtered DataFrame to a new Excel file\n",
    "        output_path = r'C:\\Users\\hparnell\\Desktop\\MH100011\\filtered_data.xlsx'\n",
    "        df_filtered.to_excel(output_path, index=False)\n",
    "        \n",
    "        # Print the first few rows of the filtered DataFrame\n",
    "        print(\"Filtered data:\\n\", df_filtered.head())\n",
    "    else:\n",
    "        print(\"Column 'Column1' not found in the DataFrame.\")\n",
    "        \n",
    "except Exception as e:\n",
    "    print(f\"An error occurred: {e}\")"
   ]
  },
  {
   "cell_type": "code",
   "execution_count": null,
   "id": "ced3d2bf-9632-4b6a-a246-ae22a21d6ee3",
   "metadata": {},
   "outputs": [],
   "source": [
    "df_filtered"
   ]
  },
  {
   "cell_type": "code",
   "execution_count": null,
   "id": "b4a933b0-dfa3-4142-82c3-07012d2e452c",
   "metadata": {},
   "outputs": [],
   "source": [
    "try:\n",
    "    # Define the path \n",
    "    output_path = r'C:\\Users\\hparnell\\Desktop\\MH100011\\df_filtered.xlsx'\n",
    "    \n",
    "    # Save df_filtered to an Excel file\n",
    "    df_filtered.to_excel(output_path, index=False)\n",
    "    \n",
    "    # Print a confirmation message\n",
    "    print(f\"DataFrame successfully saved to {output_path}\")\n",
    "\n",
    "except Exception as e:\n",
    "    print(f\"An error occurred: {e}\")"
   ]
  },
  {
   "cell_type": "code",
   "execution_count": null,
   "id": "4904a16f-79f9-4906-8c7f-ccd41feca6db",
   "metadata": {},
   "outputs": [],
   "source": []
  }
 ],
 "metadata": {
  "kernelspec": {
   "display_name": "Python 3 (ipykernel)",
   "language": "python",
   "name": "python3"
  },
  "language_info": {
   "codemirror_mode": {
    "name": "ipython",
    "version": 3
   },
   "file_extension": ".py",
   "mimetype": "text/x-python",
   "name": "python",
   "nbconvert_exporter": "python",
   "pygments_lexer": "ipython3",
   "version": "3.10.14"
  }
 },
 "nbformat": 4,
 "nbformat_minor": 5
}
